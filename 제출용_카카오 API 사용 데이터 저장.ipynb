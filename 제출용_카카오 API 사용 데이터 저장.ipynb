{
 "cells": [
  {
   "cell_type": "markdown",
   "id": "south-buffalo",
   "metadata": {
    "id": "south-buffalo"
   },
   "source": [
    "# 카카오 API 활용한 변수 추출"
   ]
  },
  {
   "cell_type": "code",
   "execution_count": null,
   "id": "heavy-steam",
   "metadata": {
    "id": "heavy-steam"
   },
   "outputs": [],
   "source": [
    "from geoband.API import *\n",
    "from geopandas.tools import sjoin\n",
    "\n",
    "\n",
    "import pandas as pd\n",
    "import numpy as np\n",
    "import matplotlib.pyplot as plt\n",
    "import folium\n",
    "import json\n",
    "import geopandas as gpd\n",
    "from shapely.geometry import Point, Polygon, LineString\n",
    "\n",
    "import pydeck as pdk\n",
    "import shapefile\n",
    "import os\n",
    "import re\n",
    "import matplotlib \n",
    "matplotlib.font_manager._rebuild()\n",
    "import seaborn as sns\n",
    "\n",
    "import mapboxgl\n",
    "from mapboxgl.viz import *\n",
    "from mapboxgl.utils import create_color_stops\n",
    "\n",
    "from matplotlib import font_manager, rc\n",
    "import platform\n",
    "\n",
    "import requests; from urllib.parse import urlparse"
   ]
  },
  {
   "cell_type": "code",
   "execution_count": null,
   "id": "spoken-battlefield",
   "metadata": {
    "id": "spoken-battlefield"
   },
   "outputs": [],
   "source": [
    "GetCompasData('SBJ_2102_003', '2', '2.대전광역시_교통사고격자(2017~2019).geojson')\n",
    "acc_cnt = gpd.read_file('2.대전광역시_교통사고격자(2017~2019).geojson')"
   ]
  },
  {
   "cell_type": "markdown",
   "id": "rubber-administration",
   "metadata": {
    "id": "rubber-administration"
   },
   "source": [
    "## 주요시설물(카카오 api) 수집"
   ]
  },
  {
   "cell_type": "markdown",
   "id": "caroline-gospel",
   "metadata": {
    "id": "caroline-gospel"
   },
   "source": [
    "> 카카오api를 활용하여 외부데이터를 수집한다 "
   ]
  },
  {
   "cell_type": "markdown",
   "id": "caring-flesh",
   "metadata": {
    "id": "caring-flesh"
   },
   "source": [
    "&nbsp;"
   ]
  },
  {
   "cell_type": "markdown",
   "id": "naval-mystery",
   "metadata": {
    "id": "naval-mystery"
   },
   "source": [
    "1. 중심좌표 구하기"
   ]
  },
  {
   "cell_type": "code",
   "execution_count": null,
   "id": "loving-headline",
   "metadata": {
    "id": "loving-headline",
    "outputId": "c960e2fd-6b24-4960-d283-172a584e6bbb"
   },
   "outputs": [
    {
     "name": "stderr",
     "output_type": "stream",
     "text": [
      "/opt/app-root/lib/python3.6/site-packages/ipykernel_launcher.py:2: UserWarning: Geometry is in a geographic CRS. Results from 'centroid' are likely incorrect. Use 'GeoSeries.to_crs()' to re-project geometries to a projected CRS before this operation.\n",
      "\n",
      "  \n"
     ]
    }
   ],
   "source": [
    "acc_cnt_pt = acc_cnt.copy() # copy GeoDataFrame\n",
    "acc_cnt_pt['geometry'] = acc_cnt_pt['geometry'].centroid  # centroid 공간함수로 중심좌표 반환 "
   ]
  },
  {
   "cell_type": "markdown",
   "id": "fleet-caution",
   "metadata": {
    "id": "fleet-caution"
   },
   "source": [
    "&nbsp;"
   ]
  },
  {
   "cell_type": "markdown",
   "id": "occasional-validation",
   "metadata": {
    "id": "occasional-validation"
   },
   "source": [
    "2. point값을 x,y 좌표계로 변환"
   ]
  },
  {
   "cell_type": "code",
   "execution_count": null,
   "id": "impossible-chancellor",
   "metadata": {
    "id": "impossible-chancellor"
   },
   "outputs": [],
   "source": [
    "def getXY(pt):       #변환함수\n",
    "    return (pt.x, pt.y)\n",
    "\n",
    "x,y = [list(t) for t in zip(*map(getXY, acc_cnt_pt['geometry']))]"
   ]
  },
  {
   "cell_type": "code",
   "execution_count": null,
   "id": "straight-ambassador",
   "metadata": {
    "id": "straight-ambassador"
   },
   "outputs": [],
   "source": [
    "acc_cnt_pt['x']=x\n",
    "acc_cnt_pt['y']=y"
   ]
  },
  {
   "cell_type": "markdown",
   "id": "mature-container",
   "metadata": {
    "id": "mature-container"
   },
   "source": [
    "&nbsp;"
   ]
  },
  {
   "cell_type": "markdown",
   "id": "irish-expression",
   "metadata": {
    "id": "irish-expression"
   },
   "source": [
    "3. 카카오톡 API 활용"
   ]
  },
  {
   "cell_type": "markdown",
   "id": "expired-finland",
   "metadata": {
    "id": "expired-finland"
   },
   "source": [
    "  - 좌표, 반경, 시설물의 keyword, 카테고리, 승인키를 입력하면 중심좌표에서 입력 반경 내에 있는 시설물의 수를 알 수 있도록 하는 함수 정의"
   ]
  },
  {
   "cell_type": "code",
   "execution_count": null,
   "id": "elder-thunder",
   "metadata": {
    "id": "elder-thunder"
   },
   "outputs": [],
   "source": [
    "def point_to_num_cat(y,x,radius,keyword,category, key):\n",
    "    url = \"https://dapi.kakao.com/v2/local/search/keyword.json?&y=\" + y + \"&x=\" + x + \"&radius=\" + radius + \"&query=\" + keyword  +\"&category_group_code\" + category\n",
    "    result = requests.get(urlparse(url).geturl(),\n",
    "                      headers={\"Authorization\":key})\n",
    "    json_obj = result.json()\n",
    "    global val\n",
    "    val = json_obj['meta']['pageable_count']\n",
    "    return val\n",
    "\n",
    "\n",
    "# key list\n",
    "# \"KakaoAK d3c61988f98633f8311396ae5ed20fa2\"\n",
    "# \"KakaoAK cb77b05f141e13a1f58eb815c768e57e\"\n",
    "# \"KakaoAK df957471473cace65fa87f01433819de\"\n",
    "# \"KakaoAK 0973431c81a22279eb5f396f1ba570d2\"\n",
    "# \"KakaoAK 21c25d923a619a70cba3e38b7d594472\""
   ]
  },
  {
   "cell_type": "markdown",
   "id": "intensive-princeton",
   "metadata": {
    "id": "intensive-princeton"
   },
   "source": [
    "### 반경 50M 내 지하철역의 수"
   ]
  },
  {
   "cell_type": "code",
   "execution_count": null,
   "id": "ignored-sodium",
   "metadata": {
    "id": "ignored-sodium"
   },
   "outputs": [],
   "source": [
    "ls_subway = []                                                \n",
    "for i in range(0,len(acc_cnt_pt['gid'])): \n",
    "    ls_subway.append(point_to_num_cat(str(acc_cnt_pt['y'][i]), str(acc_cnt_pt['x'][i]), '50', '역','SW8',\n",
    "                                     \"KakaoAK d3c61988f98633f8311396ae5ed20fa2\"))"
   ]
  },
  {
   "cell_type": "code",
   "execution_count": null,
   "id": "individual-finance",
   "metadata": {
    "id": "individual-finance"
   },
   "outputs": [],
   "source": [
    "acc_cnt_pt['subway_cnt'] = ls_subway\n",
    "subway_cnt = acc_cnt_pt.loc[:, ['gid', 'subway_cnt']]\n",
    "\n",
    "subway_cnt.to_file('subway_cnt.geojson', driver='GeoJSON')"
   ]
  },
  {
   "cell_type": "markdown",
   "id": "gentle-gamma",
   "metadata": {
    "id": "gentle-gamma"
   },
   "source": [
    "### 반경 50M 내 주차장의 수"
   ]
  },
  {
   "cell_type": "code",
   "execution_count": null,
   "id": "compliant-difference",
   "metadata": {
    "id": "compliant-difference"
   },
   "outputs": [],
   "source": [
    "ls_parking = []                                                \n",
    "for i in range(0,len(acc_cnt_pt['gid'])): \n",
    "    ls_parking.append(point_to_num_cat(str(acc_cnt_pt['y'][i]), str(acc_cnt_pt['x'][i]), '50', '주차','PK6',\n",
    "                                            \"KakaoAK cb77b05f141e13a1f58eb815c768e57e\"))"
   ]
  },
  {
   "cell_type": "code",
   "execution_count": null,
   "id": "still-duncan",
   "metadata": {
    "id": "still-duncan"
   },
   "outputs": [],
   "source": [
    "acc_cnt_pt['parkinglot_cnt'] = ls_parking\n",
    "parkinglot_cnt = acc_cnt_pt.loc[:, ['gid', 'parkinglot_cnt']]\n",
    "\n",
    "parkinglot_cnt.to_file('parkinglot_cnt.geojson', driver='GeoJSON')"
   ]
  },
  {
   "cell_type": "markdown",
   "id": "north-preview",
   "metadata": {
    "id": "north-preview"
   },
   "source": [
    "### 반경 50M 내 학교의수"
   ]
  },
  {
   "cell_type": "code",
   "execution_count": null,
   "id": "demanding-walnut",
   "metadata": {
    "id": "demanding-walnut"
   },
   "outputs": [],
   "source": [
    "ls_scl = []                                                \n",
    "for i in range(0,len(acc_cnt_pt['gid'])): \n",
    "    ls_scl.append(point_to_num_cat(str(acc_cnt_pt['y'][i]), str(acc_cnt_pt['x'][i]), '50', '학교','SC4',\n",
    "                                         \"KakaoAK df957471473cace65fa87f01433819de\"))"
   ]
  },
  {
   "cell_type": "code",
   "execution_count": null,
   "id": "noble-bottle",
   "metadata": {
    "id": "noble-bottle"
   },
   "outputs": [],
   "source": [
    "acc_cnt_pt['school_cnt'] = ls_scl\n",
    "school_cnt = acc_cnt_pt.loc[:, ['gid', 'school_cnt']]\n",
    "\n",
    "school_cnt.to_file('school_cnt.geojson', driver='GeoJSON')"
   ]
  },
  {
   "cell_type": "markdown",
   "id": "threaded-candidate",
   "metadata": {
    "id": "threaded-candidate"
   },
   "source": [
    "### 대형마트"
   ]
  },
  {
   "cell_type": "code",
   "execution_count": null,
   "id": "sunrise-solomon",
   "metadata": {
    "id": "sunrise-solomon"
   },
   "outputs": [],
   "source": [
    "ls_mart = []                                                \n",
    "for i in range(0,len(acc_cnt_pt['gid'])): \n",
    "    ls_mart.append(point_to_num_cat(str(acc_cnt_pt['y'][i]), str(acc_cnt_pt['x'][i]), '50', '마트','MT1',\n",
    "                                   \"KakaoAK 0973431c81a22279eb5f396f1ba570d2\"))"
   ]
  },
  {
   "cell_type": "code",
   "execution_count": null,
   "id": "underlying-reputation",
   "metadata": {
    "id": "underlying-reputation"
   },
   "outputs": [],
   "source": [
    "acc_cnt_pt['ssm_cnt'] = ls_mart\n",
    "ssm_cnt = acc_cnt_pt.loc[:, ['gid', 'ssm_cnt']]\n",
    "\n",
    "ssm_cnt.to_file('ssm_cnt.geojson', driver='GeoJSON')"
   ]
  }
 ],
 "metadata": {
  "colab": {
   "name": "카카오 API 사용 데이터 저장.ipynb",
   "provenance": []
  },
  "kernelspec": {
   "display_name": "Python 3",
   "language": "python",
   "name": "python3"
  },
  "language_info": {
   "codemirror_mode": {
    "name": "ipython",
    "version": 3
   },
   "file_extension": ".py",
   "mimetype": "text/x-python",
   "name": "python",
   "nbconvert_exporter": "python",
   "pygments_lexer": "ipython3",
   "version": "3.6.9"
  }
 },
 "nbformat": 4,
 "nbformat_minor": 5
}
